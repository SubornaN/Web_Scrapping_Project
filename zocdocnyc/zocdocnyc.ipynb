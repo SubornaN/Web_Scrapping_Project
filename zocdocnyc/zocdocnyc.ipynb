{
 "cells": [
  {
   "cell_type": "code",
   "execution_count": 417,
   "metadata": {},
   "outputs": [],
   "source": [
    "from selenium import webdriver\n",
    "import time\n",
    "driver = webdriver.Chrome()"
   ]
  },
  {
   "cell_type": "code",
   "execution_count": 297,
   "metadata": {},
   "outputs": [],
   "source": [
    "import pandas as pd"
   ]
  },
  {
   "cell_type": "code",
   "execution_count": 219,
   "metadata": {},
   "outputs": [],
   "source": [
    "driver.get(\"https://www.zocdoc.com/profiles/new-york\")"
   ]
  },
  {
   "cell_type": "code",
   "execution_count": 187,
   "metadata": {},
   "outputs": [],
   "source": [
    "## This code will collect urls of the pages\n",
    "\n",
    "page_url = [(el.get_attribute('href')) for el in \\\n",
    "         driver.find_elements_by_xpath('//div[@class=\"sc-14mdbn4-0 fMQpmu\"]/a')]"
   ]
  },
  {
   "cell_type": "code",
   "execution_count": 188,
   "metadata": {},
   "outputs": [
    {
     "data": {
      "text/plain": [
       "['https://www.zocdoc.com/profiles/new-york',\n",
       " 'https://www.zocdoc.com/profiles/new-york/2',\n",
       " 'https://www.zocdoc.com/profiles/new-york/3',\n",
       " 'https://www.zocdoc.com/profiles/new-york/4']"
      ]
     },
     "execution_count": 188,
     "metadata": {},
     "output_type": "execute_result"
    }
   ],
   "source": [
    "## links to all the pages\n",
    "''' First url is None type because it is the staring page. \n",
    "So, I manually assigned it the main page to not have issues with the for loop. '''\n",
    "\n",
    "page_url[0] = 'https://www.zocdoc.com/profiles/new-york'\n",
    "page_url"
   ]
  },
  {
   "cell_type": "code",
   "execution_count": 204,
   "metadata": {},
   "outputs": [],
   "source": [
    "doc_urls = [(el.get_attribute('href')) for el in \\\n",
    "         driver.find_elements_by_xpath('//div[@class=\"sc-2gkh1u-2 dkERYX\"]/a')]"
   ]
  },
  {
   "cell_type": "code",
   "execution_count": 389,
   "metadata": {},
   "outputs": [],
   "source": [
    "driver.get('https://www.zocdoc.com/dentist/alexander-kirzhner-dds-1660?insuranceCarrier=-1&insurancePlan=-1')"
   ]
  },
  {
   "cell_type": "code",
   "execution_count": 360,
   "metadata": {},
   "outputs": [
    {
     "data": {
      "text/plain": [
       "['Dr. Peter Chen, DDS']"
      ]
     },
     "execution_count": 360,
     "metadata": {},
     "output_type": "execute_result"
    }
   ],
   "source": [
    "name = [el.text for el in driver.find_elements_by_xpath('//span[@data-uem-id=\"provider-name\"]')]\n",
    "name"
   ]
  },
  {
   "cell_type": "code",
   "execution_count": 361,
   "metadata": {},
   "outputs": [
    {
     "data": {
      "text/plain": [
       "['Orthodontist']"
      ]
     },
     "execution_count": 361,
     "metadata": {},
     "output_type": "execute_result"
    }
   ],
   "source": [
    "specialties = [el.text for el in driver.find_elements_by_xpath('//h2[@class=\"sc-9yjfx1-12 mdZQO\"]')]    \n",
    "specialties"
   ]
  },
  {
   "cell_type": "code",
   "execution_count": 430,
   "metadata": {},
   "outputs": [
    {
     "data": {
      "text/plain": [
       "['425 reviews']"
      ]
     },
     "execution_count": 430,
     "metadata": {},
     "output_type": "execute_result"
    }
   ],
   "source": [
    "total_reviews = [el.text for el in driver.find_elements_by_xpath\\\n",
    "                 ('//div[@class=\"sc-9yjfx1-9 guXVFG\"]//button[@data-test=\"header-review-link\"]')]\n",
    "total_reviews"
   ]
  },
  {
   "cell_type": "code",
   "execution_count": 372,
   "metadata": {},
   "outputs": [
    {
     "data": {
      "text/plain": [
       "[]"
      ]
     },
     "execution_count": 372,
     "metadata": {},
     "output_type": "execute_result"
    }
   ],
   "source": [
    "overall_rating = [el.text for el in driver.find_elements_by_xpath\\\n",
    "                  ('//div[@data-test=\"reviews-section-header-rating-0\"]//div[@data-test=\"star-rating-score\"]')]\n",
    "overall_rating"
   ]
  },
  {
   "cell_type": "code",
   "execution_count": 364,
   "metadata": {},
   "outputs": [
    {
     "data": {
      "text/plain": [
       "[]"
      ]
     },
     "execution_count": 364,
     "metadata": {},
     "output_type": "execute_result"
    }
   ],
   "source": [
    "wait_time = [el.text for el in driver.find_elements_by_xpath\\\n",
    "             ('//div[@data-test=\"reviews-section-header-rating-1\"]//div[@data-test=\"star-rating-score\"]')]\n",
    "wait_time"
   ]
  },
  {
   "cell_type": "code",
   "execution_count": 365,
   "metadata": {},
   "outputs": [
    {
     "data": {
      "text/plain": [
       "[]"
      ]
     },
     "execution_count": 365,
     "metadata": {},
     "output_type": "execute_result"
    }
   ],
   "source": [
    "manner = [el.text for el in driver.find_elements_by_xpath\\\n",
    "          ('//div[@data-test=\"reviews-section-header-rating-2\"]//div[@data-test=\"star-rating-score\"]')]\n",
    "manner"
   ]
  },
  {
   "cell_type": "code",
   "execution_count": 367,
   "metadata": {},
   "outputs": [
    {
     "data": {
      "text/plain": [
       "['English\\nChinese (Mandarin)\\nChinese (Cantonese)']"
      ]
     },
     "execution_count": 367,
     "metadata": {},
     "output_type": "execute_result"
    }
   ],
   "source": [
    "language = [el.text for el in driver.find_elements_by_xpath('//section[@data-test=\"Languages-section\"]/ul')]\n",
    "language"
   ]
  },
  {
   "cell_type": "code",
   "execution_count": 368,
   "metadata": {},
   "outputs": [
    {
     "data": {
      "text/plain": [
       "['Male']"
      ]
     },
     "execution_count": 368,
     "metadata": {},
     "output_type": "execute_result"
    }
   ],
   "source": [
    "gender = [el.text for el in driver.find_elements_by_xpath('//section[@data-test=\"Sex-section\"]/p')]\n",
    "gender"
   ]
  },
  {
   "cell_type": "code",
   "execution_count": 411,
   "metadata": {},
   "outputs": [
    {
     "data": {
      "text/plain": [
       "'Brooklyn, NY'"
      ]
     },
     "execution_count": 411,
     "metadata": {},
     "output_type": "execute_result"
    }
   ],
   "source": [
    "city = [el.text for el in driver.find_elements_by_xpath('//div[@elementtiming=\"Header\"]//h2[@data-test=\"header-location\"]')]\n",
    "city[0]"
   ]
  },
  {
   "cell_type": "code",
   "execution_count": 409,
   "metadata": {},
   "outputs": [
    {
     "data": {
      "text/plain": [
       "'11201'"
      ]
     },
     "execution_count": 409,
     "metadata": {},
     "output_type": "execute_result"
    }
   ],
   "source": [
    "zipcode = [el.text for el in driver.find_elements_by_xpath('//div[@data-test=\"location-card-info\"]//p[@data-test=\"city-state-zip\"]//span[@itemprop=\"postalCode\"]')]\n",
    "zipcode[0]"
   ]
  },
  {
   "cell_type": "code",
   "execution_count": 212,
   "metadata": {},
   "outputs": [],
   "source": [
    "# for loop for collecting all urls\n",
    "doc_urls = []\n",
    "\n",
    "for url in page_url:  # for every page urls\n",
    "    driver.get(url) # go to the url\n",
    "\n",
    "    # collect url links from that page\n",
    "    i = [(el.get_attribute('href')) for el in \\\n",
    "         driver.find_elements_by_xpath('//div[@class=\"sc-2gkh1u-2 dkERYX\"]/a')]\n",
    "    \n",
    "    # append these links to this variable\n",
    "    doc_urls.extend(i)\n",
    "    \n",
    "    time.sleep(3)"
   ]
  },
  {
   "cell_type": "code",
   "execution_count": 373,
   "metadata": {
    "scrolled": true
   },
   "outputs": [
    {
     "data": {
      "text/plain": [
       "['https://www.zocdoc.com/dentist/alexander-kirzhner-dds-1660',\n",
       " 'https://www.zocdoc.com/doctor/samuel-cho-md-155663',\n",
       " 'https://www.zocdoc.com/dentist/demetrios-mihalos-dds-42392',\n",
       " 'https://www.zocdoc.com/doctor/chunpang-tony-shen-md-204804',\n",
       " 'https://www.zocdoc.com/doctor/irina-mikheyeva-do-9303',\n",
       " 'https://www.zocdoc.com/doctor/ajai-chari-md-248509',\n",
       " 'https://www.zocdoc.com/doctor/gary-markoff-md-facog-56061',\n",
       " 'https://www.zocdoc.com/doctor/carrie-doolan-pa-24820',\n",
       " 'https://www.zocdoc.com/doctor/charles-stacy-md-196340',\n",
       " 'https://www.zocdoc.com/doctor/erin-walsh-md-242275',\n",
       " 'https://www.zocdoc.com/doctor/kevin-j-warner-dpm-236949',\n",
       " 'https://www.zocdoc.com/professional/aryeh-wiederkehr-lcsw-285076',\n",
       " 'https://www.zocdoc.com/doctor/adam-stanger-dc-294837',\n",
       " 'https://www.zocdoc.com/dentist/peter-chen-dds-258010',\n",
       " 'https://www.zocdoc.com/doctor/susan-bard-md-285409',\n",
       " 'https://www.zocdoc.com/doctor/joe-malkis-dc-53484',\n",
       " 'https://www.zocdoc.com/dentist/jason-alster-dds-289798',\n",
       " 'https://www.zocdoc.com/doctor/lamees-alshawkani-od-160012',\n",
       " 'https://www.zocdoc.com/doctor/boyan-hadjiev-md-1184',\n",
       " 'https://www.zocdoc.com/doctor/joseph-sturm-md-6549']"
      ]
     },
     "execution_count": 373,
     "metadata": {},
     "output_type": "execute_result"
    }
   ],
   "source": [
    "doc_urls"
   ]
  },
  {
   "cell_type": "code",
   "execution_count": 431,
   "metadata": {},
   "outputs": [],
   "source": [
    "# for loop for collecting info on every doctors\n",
    "name = []\n",
    "specialties = []\n",
    "overall_rating = []\n",
    "total_reviews = []\n",
    "wait_time = []\n",
    "manner = []\n",
    "language = []\n",
    "gender = []\n",
    "city = []\n",
    "zipcode = []\n",
    "\n",
    "for durl in doc_urls:\n",
    "    \n",
    "    driver.get(durl)\n",
    "\n",
    "    #############################################################\n",
    "\n",
    "    n = [el.text for el in driver.find_elements_by_xpath('//span[@data-uem-id=\"provider-name\"]')]\n",
    "\n",
    "    if n == []:\n",
    "        name.extend(None)\n",
    "    else:\n",
    "        name.extend(n)\n",
    "\n",
    "    #############################################################\n",
    "\n",
    "    s = [el.text for el in driver.find_elements_by_xpath('//h2[@class=\"sc-9yjfx1-12 mdZQO\"]')]\n",
    "    \n",
    "    if s == []:\n",
    "        specialties.append(None)\n",
    "    else:\n",
    "        specialties.append(s)\n",
    "    \n",
    "    #############################################################\n",
    "    \n",
    "    o = [el.text for el in driver.find_elements_by_xpath\\\n",
    "    ('//div[@data-test=\"reviews-section-header-rating-0\"]//div[@data-test=\"star-rating-score\"]')]\n",
    "    \n",
    "    if o == []:\n",
    "        overall_rating.append(None)\n",
    "    else:\n",
    "        overall_rating.extend(o)\n",
    "    \n",
    "    #############################################################\n",
    "    \n",
    "    t = [el.text for el in driver.find_elements_by_xpath\\\n",
    "                 ('//div[@class=\"sc-9yjfx1-9 guXVFG\"]//button[@data-test=\"header-review-link\"]')]\n",
    "    \n",
    "    if t == []:\n",
    "        total_reviews.append(None)\n",
    "    else:\n",
    "        total_reviews.extend(t)\n",
    "    \n",
    "    #############################################################\n",
    "    \n",
    "    w = [el.text for el in driver.find_elements_by_xpath\\\n",
    "             ('//div[@data-test=\"reviews-section-header-rating-1\"]//div[@data-test=\"star-rating-score\"]')]\n",
    "    \n",
    "    if w == []:\n",
    "        wait_time.append(None)\n",
    "    else:\n",
    "        wait_time.extend(w)\n",
    "    \n",
    "    #############################################################\n",
    "    \n",
    "    m = [el.text for el in driver.find_elements_by_xpath\\\n",
    "          ('//div[@data-test=\"reviews-section-header-rating-2\"]//div[@data-test=\"star-rating-score\"]')]\n",
    "    \n",
    "    if m == []:\n",
    "        manner.append(None)\n",
    "    else:\n",
    "        manner.extend(m)\n",
    "    \n",
    "    #############################################################\n",
    "    \n",
    "    l = [el.text for el in driver.find_elements_by_xpath('//section[@data-test=\"Languages-section\"]/ul')]\n",
    "    \n",
    "    if l == []:\n",
    "        language.append(None)\n",
    "    else:\n",
    "        language.append(l)\n",
    "    \n",
    "    #############################################################\n",
    "    \n",
    "    g = [el.text for el in driver.find_elements_by_xpath('//section[@data-test=\"Sex-section\"]/p')]\n",
    "    \n",
    "    if g == []:\n",
    "        gender.append(None)\n",
    "    else:\n",
    "        gender.extend(g)\n",
    "    \n",
    "    #############################################################\n",
    "    \n",
    "    c = [el.text for el in driver.find_elements_by_xpath('//div[@elementtiming=\"Header\"]//h2[@data-test=\"header-location\"]')]\n",
    "    \n",
    "    if c == []:\n",
    "        city.append(None)\n",
    "    else:\n",
    "        city.append(c)\n",
    "    \n",
    "    #############################################################\n",
    "    \n",
    "    z = [el.text for el in driver.find_elements_by_xpath('//div[@data-test=\"location-card-info\"]//p[@data-test=\"city-state-zip\"]//span[@itemprop=\"postalCode\"]')]\n",
    "\n",
    "    if z == []:\n",
    "        zipcode.append(None)\n",
    "    else:\n",
    "        zipcode.append(z)\n",
    "    \n",
    "    time.sleep(3)"
   ]
  },
  {
   "cell_type": "code",
   "execution_count": 432,
   "metadata": {},
   "outputs": [],
   "source": [
    "info_dict = {'name': name, \n",
    "             'specialties': specialties, \n",
    "            'overall_rating': overall_rating,\n",
    "             'total_reviews': total_reviews,\n",
    "             'wait_time': wait_time,\n",
    "             'manner': manner,\n",
    "             'language': language,\n",
    "             'gender': gender,\n",
    "             'city': city,\n",
    "            'zipcode': zipcode}\n",
    "\n",
    "# info_dict['name'] = name\n",
    "# info_dict['specialties'] = specialties\n",
    "# info_dict['overall_rating'] = overall_rating\n",
    "# info_dict['total_reviews'] = total_reviews\n",
    "# info_dict['wait_time'] = wait_time\n",
    "# info_dict['manner'] = manner\n",
    "# info_dict['language'] = language\n",
    "# info_dict['gender'] = gender\n",
    "# info_dict['city'] = city"
   ]
  },
  {
   "cell_type": "code",
   "execution_count": null,
   "metadata": {},
   "outputs": [],
   "source": []
  },
  {
   "cell_type": "code",
   "execution_count": 433,
   "metadata": {
    "scrolled": true
   },
   "outputs": [
    {
     "name": "stdout",
     "output_type": "stream",
     "text": [
      "20\n",
      "20\n",
      "20\n",
      "20\n",
      "20\n",
      "20\n",
      "20\n",
      "20\n",
      "20\n",
      "20\n"
     ]
    }
   ],
   "source": [
    "# Making sure the length of each column is equal\n",
    "for key in info_dict.keys():\n",
    "     print(len(info_dict[key]))"
   ]
  },
  {
   "cell_type": "code",
   "execution_count": 434,
   "metadata": {},
   "outputs": [
    {
     "data": {
      "text/plain": [
       "{'name': ['Dr. Alexander Kirzhner, DDS',\n",
       "  'Dr. Samuel Cho, MD',\n",
       "  'Dr. Demetrios Mihalos, DDS',\n",
       "  'Dr. Chunpang (Tony) Shen, MD',\n",
       "  'Dr. Irina Mikheyeva, DO',\n",
       "  'Dr. Ajai Chari, MD',\n",
       "  'Dr. Gary Markoff, MD, FACOG',\n",
       "  'Carrie Doolan, PA',\n",
       "  'Dr. Charles Stacy, MD',\n",
       "  'Dr. Erin Walsh, MD',\n",
       "  'Dr. Kevin J. Warner, DPM',\n",
       "  'Aryeh Wiederkehr, LCSW',\n",
       "  'Dr. Adam Stanger, DC',\n",
       "  'Dr. Peter Chen, DDS',\n",
       "  'Dr. Susan Bard, MD',\n",
       "  'Dr. Joe Malkis, DC',\n",
       "  'Dr. Jason Alster, DDS',\n",
       "  'Dr. Lamees Alshawkani, OD',\n",
       "  'Dr. Boyan Hadjiev, MD',\n",
       "  'Dr. Joseph Sturm, MD'],\n",
       " 'specialties': [['Dentist, Cosmetic Dentist'],\n",
       "  ['Gastroenterologist'],\n",
       "  ['Dentist, Cosmetic Dentist'],\n",
       "  ['Pediatrician'],\n",
       "  ['OB-GYN'],\n",
       "  ['Oncologist'],\n",
       "  ['OB-GYN'],\n",
       "  ['Physician Assistant'],\n",
       "  ['Neurologist'],\n",
       "  ['Ophthalmologist'],\n",
       "  ['Podiatrist'],\n",
       "  ['Psychotherapist'],\n",
       "  ['Chiropractor'],\n",
       "  ['Orthodontist'],\n",
       "  ['Dermatologist'],\n",
       "  ['Chiropractor'],\n",
       "  ['Dentist, Cosmetic Dentist'],\n",
       "  ['Optometrist'],\n",
       "  ['Allergist, Immunologist'],\n",
       "  ['Ophthalmologist']],\n",
       " 'overall_rating': ['4.16',\n",
       "  '4.83',\n",
       "  '4.93',\n",
       "  '4.67',\n",
       "  '4.25',\n",
       "  '5.00',\n",
       "  '4.92',\n",
       "  '5.00',\n",
       "  '4.76',\n",
       "  '4.64',\n",
       "  '4.88',\n",
       "  None,\n",
       "  '5.00',\n",
       "  None,\n",
       "  '4.67',\n",
       "  '4.89',\n",
       "  '5.00',\n",
       "  '4.93',\n",
       "  '4.87',\n",
       "  '4.74'],\n",
       " 'total_reviews': ['73 reviews',\n",
       "  '110 reviews',\n",
       "  '400 reviews',\n",
       "  '15 reviews',\n",
       "  '261 reviews',\n",
       "  '1 review',\n",
       "  '463 reviews',\n",
       "  '12 reviews',\n",
       "  '17 reviews',\n",
       "  '11 reviews',\n",
       "  '42 reviews',\n",
       "  None,\n",
       "  '15 reviews',\n",
       "  None,\n",
       "  '95 reviews',\n",
       "  '375 reviews',\n",
       "  '6 reviews',\n",
       "  '606 reviews',\n",
       "  '1069 reviews',\n",
       "  '425 reviews'],\n",
       " 'wait_time': ['3.93',\n",
       "  '4.31',\n",
       "  '4.79',\n",
       "  '3.53',\n",
       "  '3.07',\n",
       "  '3.00',\n",
       "  '4.26',\n",
       "  '5.00',\n",
       "  '4.85',\n",
       "  '4.10',\n",
       "  '4.93',\n",
       "  None,\n",
       "  '4.87',\n",
       "  None,\n",
       "  '4.43',\n",
       "  '4.92',\n",
       "  '4.80',\n",
       "  '4.95',\n",
       "  '4.31',\n",
       "  '4.33'],\n",
       " 'manner': ['4.13',\n",
       "  '4.78',\n",
       "  '4.94',\n",
       "  '4.87',\n",
       "  '4.40',\n",
       "  '5.00',\n",
       "  '4.89',\n",
       "  '5.00',\n",
       "  '4.77',\n",
       "  '5.00',\n",
       "  '4.93',\n",
       "  None,\n",
       "  '5.00',\n",
       "  None,\n",
       "  '4.78',\n",
       "  '4.93',\n",
       "  '5.00',\n",
       "  '4.97',\n",
       "  '4.87',\n",
       "  '4.75'],\n",
       " 'language': [['English\\nSpanish\\nHebrew\\nview all'],\n",
       "  ['English\\nKorean'],\n",
       "  ['English\\nGreek'],\n",
       "  ['English\\nChinese (Mandarin)'],\n",
       "  ['English\\nRussian\\nUkrainian'],\n",
       "  ['English'],\n",
       "  ['English'],\n",
       "  None,\n",
       "  ['English\\nFrench\\nSpanish'],\n",
       "  ['English'],\n",
       "  ['English'],\n",
       "  ['English'],\n",
       "  ['English'],\n",
       "  ['English\\nChinese (Mandarin)\\nChinese (Cantonese)'],\n",
       "  ['English'],\n",
       "  ['English\\nHebrew\\nRussian'],\n",
       "  ['English'],\n",
       "  ['English'],\n",
       "  ['English\\nFrench\\nSpanish\\nview all'],\n",
       "  ['English\\nFrench\\nSpanish\\nRussian\\nCreole']],\n",
       " 'gender': ['Male',\n",
       "  'Male',\n",
       "  'Male',\n",
       "  'Male',\n",
       "  'Female',\n",
       "  'Male',\n",
       "  'Male',\n",
       "  'Female',\n",
       "  'Male',\n",
       "  'Female',\n",
       "  'Male',\n",
       "  'Male',\n",
       "  'Male',\n",
       "  'Male',\n",
       "  'Female',\n",
       "  'Male',\n",
       "  'Male',\n",
       "  'Female',\n",
       "  'Male',\n",
       "  'Male'],\n",
       " 'city': [['Brooklyn, NY'],\n",
       "  ['Flushing, NY'],\n",
       "  ['New York, NY'],\n",
       "  ['New York, NY'],\n",
       "  ['Brooklyn, NY'],\n",
       "  ['New York, NY'],\n",
       "  ['New York, NY'],\n",
       "  ['New York, NY'],\n",
       "  ['New York, NY'],\n",
       "  ['New York, NY'],\n",
       "  ['New York, NY'],\n",
       "  ['Brooklyn, NY'],\n",
       "  ['New York, NY'],\n",
       "  ['New York, NY'],\n",
       "  ['New York, NY'],\n",
       "  ['New York, NY'],\n",
       "  ['New York, NY'],\n",
       "  ['New York, NY'],\n",
       "  ['New York, NY'],\n",
       "  ['Brooklyn, NY']],\n",
       " 'zipcode': [['11236', '11229'],\n",
       "  ['11354'],\n",
       "  ['10065'],\n",
       "  None,\n",
       "  ['11226', '11223'],\n",
       "  ['10029', '10029'],\n",
       "  ['10016'],\n",
       "  ['10019'],\n",
       "  ['10029'],\n",
       "  ['10003', '10028', '10573', '10013'],\n",
       "  ['10038', '10036', '10038'],\n",
       "  ['11230'],\n",
       "  ['10017'],\n",
       "  ['10029'],\n",
       "  ['10010', '10011', '10019'],\n",
       "  ['10036'],\n",
       "  ['10028', '10011'],\n",
       "  ['10012'],\n",
       "  ['10016'],\n",
       "  ['11201']]}"
      ]
     },
     "execution_count": 434,
     "metadata": {},
     "output_type": "execute_result"
    }
   ],
   "source": [
    "info_dict"
   ]
  },
  {
   "cell_type": "code",
   "execution_count": 435,
   "metadata": {},
   "outputs": [
    {
     "data": {
      "text/html": [
       "<div>\n",
       "<style scoped>\n",
       "    .dataframe tbody tr th:only-of-type {\n",
       "        vertical-align: middle;\n",
       "    }\n",
       "\n",
       "    .dataframe tbody tr th {\n",
       "        vertical-align: top;\n",
       "    }\n",
       "\n",
       "    .dataframe thead th {\n",
       "        text-align: right;\n",
       "    }\n",
       "</style>\n",
       "<table border=\"1\" class=\"dataframe\">\n",
       "  <thead>\n",
       "    <tr style=\"text-align: right;\">\n",
       "      <th></th>\n",
       "      <th>name</th>\n",
       "      <th>specialties</th>\n",
       "      <th>overall_rating</th>\n",
       "      <th>total_reviews</th>\n",
       "      <th>wait_time</th>\n",
       "      <th>manner</th>\n",
       "      <th>language</th>\n",
       "      <th>gender</th>\n",
       "      <th>city</th>\n",
       "      <th>zipcode</th>\n",
       "    </tr>\n",
       "  </thead>\n",
       "  <tbody>\n",
       "    <tr>\n",
       "      <th>0</th>\n",
       "      <td>Dr. Alexander Kirzhner, DDS</td>\n",
       "      <td>[Dentist, Cosmetic Dentist]</td>\n",
       "      <td>4.16</td>\n",
       "      <td>73 reviews</td>\n",
       "      <td>3.93</td>\n",
       "      <td>4.13</td>\n",
       "      <td>[English\\nSpanish\\nHebrew\\nview all]</td>\n",
       "      <td>Male</td>\n",
       "      <td>[Brooklyn, NY]</td>\n",
       "      <td>[11236, 11229]</td>\n",
       "    </tr>\n",
       "    <tr>\n",
       "      <th>1</th>\n",
       "      <td>Dr. Samuel Cho, MD</td>\n",
       "      <td>[Gastroenterologist]</td>\n",
       "      <td>4.83</td>\n",
       "      <td>110 reviews</td>\n",
       "      <td>4.31</td>\n",
       "      <td>4.78</td>\n",
       "      <td>[English\\nKorean]</td>\n",
       "      <td>Male</td>\n",
       "      <td>[Flushing, NY]</td>\n",
       "      <td>[11354]</td>\n",
       "    </tr>\n",
       "    <tr>\n",
       "      <th>2</th>\n",
       "      <td>Dr. Demetrios Mihalos, DDS</td>\n",
       "      <td>[Dentist, Cosmetic Dentist]</td>\n",
       "      <td>4.93</td>\n",
       "      <td>400 reviews</td>\n",
       "      <td>4.79</td>\n",
       "      <td>4.94</td>\n",
       "      <td>[English\\nGreek]</td>\n",
       "      <td>Male</td>\n",
       "      <td>[New York, NY]</td>\n",
       "      <td>[10065]</td>\n",
       "    </tr>\n",
       "    <tr>\n",
       "      <th>3</th>\n",
       "      <td>Dr. Chunpang (Tony) Shen, MD</td>\n",
       "      <td>[Pediatrician]</td>\n",
       "      <td>4.67</td>\n",
       "      <td>15 reviews</td>\n",
       "      <td>3.53</td>\n",
       "      <td>4.87</td>\n",
       "      <td>[English\\nChinese (Mandarin)]</td>\n",
       "      <td>Male</td>\n",
       "      <td>[New York, NY]</td>\n",
       "      <td>None</td>\n",
       "    </tr>\n",
       "    <tr>\n",
       "      <th>4</th>\n",
       "      <td>Dr. Irina Mikheyeva, DO</td>\n",
       "      <td>[OB-GYN]</td>\n",
       "      <td>4.25</td>\n",
       "      <td>261 reviews</td>\n",
       "      <td>3.07</td>\n",
       "      <td>4.40</td>\n",
       "      <td>[English\\nRussian\\nUkrainian]</td>\n",
       "      <td>Female</td>\n",
       "      <td>[Brooklyn, NY]</td>\n",
       "      <td>[11226, 11223]</td>\n",
       "    </tr>\n",
       "    <tr>\n",
       "      <th>5</th>\n",
       "      <td>Dr. Ajai Chari, MD</td>\n",
       "      <td>[Oncologist]</td>\n",
       "      <td>5.00</td>\n",
       "      <td>1 review</td>\n",
       "      <td>3.00</td>\n",
       "      <td>5.00</td>\n",
       "      <td>[English]</td>\n",
       "      <td>Male</td>\n",
       "      <td>[New York, NY]</td>\n",
       "      <td>[10029, 10029]</td>\n",
       "    </tr>\n",
       "    <tr>\n",
       "      <th>6</th>\n",
       "      <td>Dr. Gary Markoff, MD, FACOG</td>\n",
       "      <td>[OB-GYN]</td>\n",
       "      <td>4.92</td>\n",
       "      <td>463 reviews</td>\n",
       "      <td>4.26</td>\n",
       "      <td>4.89</td>\n",
       "      <td>[English]</td>\n",
       "      <td>Male</td>\n",
       "      <td>[New York, NY]</td>\n",
       "      <td>[10016]</td>\n",
       "    </tr>\n",
       "    <tr>\n",
       "      <th>7</th>\n",
       "      <td>Carrie Doolan, PA</td>\n",
       "      <td>[Physician Assistant]</td>\n",
       "      <td>5.00</td>\n",
       "      <td>12 reviews</td>\n",
       "      <td>5.00</td>\n",
       "      <td>5.00</td>\n",
       "      <td>None</td>\n",
       "      <td>Female</td>\n",
       "      <td>[New York, NY]</td>\n",
       "      <td>[10019]</td>\n",
       "    </tr>\n",
       "    <tr>\n",
       "      <th>8</th>\n",
       "      <td>Dr. Charles Stacy, MD</td>\n",
       "      <td>[Neurologist]</td>\n",
       "      <td>4.76</td>\n",
       "      <td>17 reviews</td>\n",
       "      <td>4.85</td>\n",
       "      <td>4.77</td>\n",
       "      <td>[English\\nFrench\\nSpanish]</td>\n",
       "      <td>Male</td>\n",
       "      <td>[New York, NY]</td>\n",
       "      <td>[10029]</td>\n",
       "    </tr>\n",
       "    <tr>\n",
       "      <th>9</th>\n",
       "      <td>Dr. Erin Walsh, MD</td>\n",
       "      <td>[Ophthalmologist]</td>\n",
       "      <td>4.64</td>\n",
       "      <td>11 reviews</td>\n",
       "      <td>4.10</td>\n",
       "      <td>5.00</td>\n",
       "      <td>[English]</td>\n",
       "      <td>Female</td>\n",
       "      <td>[New York, NY]</td>\n",
       "      <td>[10003, 10028, 10573, 10013]</td>\n",
       "    </tr>\n",
       "    <tr>\n",
       "      <th>10</th>\n",
       "      <td>Dr. Kevin J. Warner, DPM</td>\n",
       "      <td>[Podiatrist]</td>\n",
       "      <td>4.88</td>\n",
       "      <td>42 reviews</td>\n",
       "      <td>4.93</td>\n",
       "      <td>4.93</td>\n",
       "      <td>[English]</td>\n",
       "      <td>Male</td>\n",
       "      <td>[New York, NY]</td>\n",
       "      <td>[10038, 10036, 10038]</td>\n",
       "    </tr>\n",
       "    <tr>\n",
       "      <th>11</th>\n",
       "      <td>Aryeh Wiederkehr, LCSW</td>\n",
       "      <td>[Psychotherapist]</td>\n",
       "      <td>None</td>\n",
       "      <td>None</td>\n",
       "      <td>None</td>\n",
       "      <td>None</td>\n",
       "      <td>[English]</td>\n",
       "      <td>Male</td>\n",
       "      <td>[Brooklyn, NY]</td>\n",
       "      <td>[11230]</td>\n",
       "    </tr>\n",
       "    <tr>\n",
       "      <th>12</th>\n",
       "      <td>Dr. Adam Stanger, DC</td>\n",
       "      <td>[Chiropractor]</td>\n",
       "      <td>5.00</td>\n",
       "      <td>15 reviews</td>\n",
       "      <td>4.87</td>\n",
       "      <td>5.00</td>\n",
       "      <td>[English]</td>\n",
       "      <td>Male</td>\n",
       "      <td>[New York, NY]</td>\n",
       "      <td>[10017]</td>\n",
       "    </tr>\n",
       "    <tr>\n",
       "      <th>13</th>\n",
       "      <td>Dr. Peter Chen, DDS</td>\n",
       "      <td>[Orthodontist]</td>\n",
       "      <td>None</td>\n",
       "      <td>None</td>\n",
       "      <td>None</td>\n",
       "      <td>None</td>\n",
       "      <td>[English\\nChinese (Mandarin)\\nChinese (Cantone...</td>\n",
       "      <td>Male</td>\n",
       "      <td>[New York, NY]</td>\n",
       "      <td>[10029]</td>\n",
       "    </tr>\n",
       "    <tr>\n",
       "      <th>14</th>\n",
       "      <td>Dr. Susan Bard, MD</td>\n",
       "      <td>[Dermatologist]</td>\n",
       "      <td>4.67</td>\n",
       "      <td>95 reviews</td>\n",
       "      <td>4.43</td>\n",
       "      <td>4.78</td>\n",
       "      <td>[English]</td>\n",
       "      <td>Female</td>\n",
       "      <td>[New York, NY]</td>\n",
       "      <td>[10010, 10011, 10019]</td>\n",
       "    </tr>\n",
       "    <tr>\n",
       "      <th>15</th>\n",
       "      <td>Dr. Joe Malkis, DC</td>\n",
       "      <td>[Chiropractor]</td>\n",
       "      <td>4.89</td>\n",
       "      <td>375 reviews</td>\n",
       "      <td>4.92</td>\n",
       "      <td>4.93</td>\n",
       "      <td>[English\\nHebrew\\nRussian]</td>\n",
       "      <td>Male</td>\n",
       "      <td>[New York, NY]</td>\n",
       "      <td>[10036]</td>\n",
       "    </tr>\n",
       "    <tr>\n",
       "      <th>16</th>\n",
       "      <td>Dr. Jason Alster, DDS</td>\n",
       "      <td>[Dentist, Cosmetic Dentist]</td>\n",
       "      <td>5.00</td>\n",
       "      <td>6 reviews</td>\n",
       "      <td>4.80</td>\n",
       "      <td>5.00</td>\n",
       "      <td>[English]</td>\n",
       "      <td>Male</td>\n",
       "      <td>[New York, NY]</td>\n",
       "      <td>[10028, 10011]</td>\n",
       "    </tr>\n",
       "    <tr>\n",
       "      <th>17</th>\n",
       "      <td>Dr. Lamees Alshawkani, OD</td>\n",
       "      <td>[Optometrist]</td>\n",
       "      <td>4.93</td>\n",
       "      <td>606 reviews</td>\n",
       "      <td>4.95</td>\n",
       "      <td>4.97</td>\n",
       "      <td>[English]</td>\n",
       "      <td>Female</td>\n",
       "      <td>[New York, NY]</td>\n",
       "      <td>[10012]</td>\n",
       "    </tr>\n",
       "    <tr>\n",
       "      <th>18</th>\n",
       "      <td>Dr. Boyan Hadjiev, MD</td>\n",
       "      <td>[Allergist, Immunologist]</td>\n",
       "      <td>4.87</td>\n",
       "      <td>1069 reviews</td>\n",
       "      <td>4.31</td>\n",
       "      <td>4.87</td>\n",
       "      <td>[English\\nFrench\\nSpanish\\nview all]</td>\n",
       "      <td>Male</td>\n",
       "      <td>[New York, NY]</td>\n",
       "      <td>[10016]</td>\n",
       "    </tr>\n",
       "    <tr>\n",
       "      <th>19</th>\n",
       "      <td>Dr. Joseph Sturm, MD</td>\n",
       "      <td>[Ophthalmologist]</td>\n",
       "      <td>4.74</td>\n",
       "      <td>425 reviews</td>\n",
       "      <td>4.33</td>\n",
       "      <td>4.75</td>\n",
       "      <td>[English\\nFrench\\nSpanish\\nRussian\\nCreole]</td>\n",
       "      <td>Male</td>\n",
       "      <td>[Brooklyn, NY]</td>\n",
       "      <td>[11201]</td>\n",
       "    </tr>\n",
       "  </tbody>\n",
       "</table>\n",
       "</div>"
      ],
      "text/plain": [
       "                            name                  specialties overall_rating  \\\n",
       "0    Dr. Alexander Kirzhner, DDS  [Dentist, Cosmetic Dentist]           4.16   \n",
       "1             Dr. Samuel Cho, MD         [Gastroenterologist]           4.83   \n",
       "2     Dr. Demetrios Mihalos, DDS  [Dentist, Cosmetic Dentist]           4.93   \n",
       "3   Dr. Chunpang (Tony) Shen, MD               [Pediatrician]           4.67   \n",
       "4        Dr. Irina Mikheyeva, DO                     [OB-GYN]           4.25   \n",
       "5             Dr. Ajai Chari, MD                 [Oncologist]           5.00   \n",
       "6    Dr. Gary Markoff, MD, FACOG                     [OB-GYN]           4.92   \n",
       "7              Carrie Doolan, PA        [Physician Assistant]           5.00   \n",
       "8          Dr. Charles Stacy, MD                [Neurologist]           4.76   \n",
       "9             Dr. Erin Walsh, MD            [Ophthalmologist]           4.64   \n",
       "10      Dr. Kevin J. Warner, DPM                 [Podiatrist]           4.88   \n",
       "11        Aryeh Wiederkehr, LCSW            [Psychotherapist]           None   \n",
       "12          Dr. Adam Stanger, DC               [Chiropractor]           5.00   \n",
       "13           Dr. Peter Chen, DDS               [Orthodontist]           None   \n",
       "14            Dr. Susan Bard, MD              [Dermatologist]           4.67   \n",
       "15            Dr. Joe Malkis, DC               [Chiropractor]           4.89   \n",
       "16         Dr. Jason Alster, DDS  [Dentist, Cosmetic Dentist]           5.00   \n",
       "17     Dr. Lamees Alshawkani, OD                [Optometrist]           4.93   \n",
       "18         Dr. Boyan Hadjiev, MD    [Allergist, Immunologist]           4.87   \n",
       "19          Dr. Joseph Sturm, MD            [Ophthalmologist]           4.74   \n",
       "\n",
       "   total_reviews wait_time manner  \\\n",
       "0     73 reviews      3.93   4.13   \n",
       "1    110 reviews      4.31   4.78   \n",
       "2    400 reviews      4.79   4.94   \n",
       "3     15 reviews      3.53   4.87   \n",
       "4    261 reviews      3.07   4.40   \n",
       "5       1 review      3.00   5.00   \n",
       "6    463 reviews      4.26   4.89   \n",
       "7     12 reviews      5.00   5.00   \n",
       "8     17 reviews      4.85   4.77   \n",
       "9     11 reviews      4.10   5.00   \n",
       "10    42 reviews      4.93   4.93   \n",
       "11          None      None   None   \n",
       "12    15 reviews      4.87   5.00   \n",
       "13          None      None   None   \n",
       "14    95 reviews      4.43   4.78   \n",
       "15   375 reviews      4.92   4.93   \n",
       "16     6 reviews      4.80   5.00   \n",
       "17   606 reviews      4.95   4.97   \n",
       "18  1069 reviews      4.31   4.87   \n",
       "19   425 reviews      4.33   4.75   \n",
       "\n",
       "                                             language  gender            city  \\\n",
       "0                [English\\nSpanish\\nHebrew\\nview all]    Male  [Brooklyn, NY]   \n",
       "1                                   [English\\nKorean]    Male  [Flushing, NY]   \n",
       "2                                    [English\\nGreek]    Male  [New York, NY]   \n",
       "3                       [English\\nChinese (Mandarin)]    Male  [New York, NY]   \n",
       "4                       [English\\nRussian\\nUkrainian]  Female  [Brooklyn, NY]   \n",
       "5                                           [English]    Male  [New York, NY]   \n",
       "6                                           [English]    Male  [New York, NY]   \n",
       "7                                                None  Female  [New York, NY]   \n",
       "8                          [English\\nFrench\\nSpanish]    Male  [New York, NY]   \n",
       "9                                           [English]  Female  [New York, NY]   \n",
       "10                                          [English]    Male  [New York, NY]   \n",
       "11                                          [English]    Male  [Brooklyn, NY]   \n",
       "12                                          [English]    Male  [New York, NY]   \n",
       "13  [English\\nChinese (Mandarin)\\nChinese (Cantone...    Male  [New York, NY]   \n",
       "14                                          [English]  Female  [New York, NY]   \n",
       "15                         [English\\nHebrew\\nRussian]    Male  [New York, NY]   \n",
       "16                                          [English]    Male  [New York, NY]   \n",
       "17                                          [English]  Female  [New York, NY]   \n",
       "18               [English\\nFrench\\nSpanish\\nview all]    Male  [New York, NY]   \n",
       "19        [English\\nFrench\\nSpanish\\nRussian\\nCreole]    Male  [Brooklyn, NY]   \n",
       "\n",
       "                         zipcode  \n",
       "0                 [11236, 11229]  \n",
       "1                        [11354]  \n",
       "2                        [10065]  \n",
       "3                           None  \n",
       "4                 [11226, 11223]  \n",
       "5                 [10029, 10029]  \n",
       "6                        [10016]  \n",
       "7                        [10019]  \n",
       "8                        [10029]  \n",
       "9   [10003, 10028, 10573, 10013]  \n",
       "10         [10038, 10036, 10038]  \n",
       "11                       [11230]  \n",
       "12                       [10017]  \n",
       "13                       [10029]  \n",
       "14         [10010, 10011, 10019]  \n",
       "15                       [10036]  \n",
       "16                [10028, 10011]  \n",
       "17                       [10012]  \n",
       "18                       [10016]  \n",
       "19                       [11201]  "
      ]
     },
     "execution_count": 435,
     "metadata": {},
     "output_type": "execute_result"
    }
   ],
   "source": [
    "pd.DataFrame(info_dict)"
   ]
  },
  {
   "cell_type": "code",
   "execution_count": null,
   "metadata": {},
   "outputs": [],
   "source": []
  },
  {
   "cell_type": "code",
   "execution_count": null,
   "metadata": {},
   "outputs": [],
   "source": []
  },
  {
   "cell_type": "code",
   "execution_count": null,
   "metadata": {},
   "outputs": [],
   "source": []
  },
  {
   "cell_type": "code",
   "execution_count": 5,
   "metadata": {},
   "outputs": [],
   "source": [
    "# close the browser at the end\n",
    "driver.close()"
   ]
  },
  {
   "cell_type": "code",
   "execution_count": null,
   "metadata": {},
   "outputs": [],
   "source": []
  }
 ],
 "metadata": {
  "kernelspec": {
   "display_name": "Python 3",
   "language": "python",
   "name": "python3"
  },
  "language_info": {
   "codemirror_mode": {
    "name": "ipython",
    "version": 3
   },
   "file_extension": ".py",
   "mimetype": "text/x-python",
   "name": "python",
   "nbconvert_exporter": "python",
   "pygments_lexer": "ipython3",
   "version": "3.7.4"
  }
 },
 "nbformat": 4,
 "nbformat_minor": 4
}
