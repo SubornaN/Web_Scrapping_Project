{
 "cells": [
  {
   "cell_type": "code",
   "execution_count": 1,
   "metadata": {},
   "outputs": [],
   "source": [
    "from selenium import webdriver\n",
    "import time\n",
    "import csv\n",
    "\n",
    "driver = webdriver.Chrome()\n",
    "driver.get(\"https://www.zocdoc.com/profiles/new-york\")"
   ]
  },
  {
   "cell_type": "code",
   "execution_count": 2,
   "metadata": {},
   "outputs": [
    {
     "data": {
      "text/plain": [
       "['https://www.zocdoc.com/profiles/new-york',\n",
       " 'https://www.zocdoc.com/profiles/new-york/2',\n",
       " 'https://www.zocdoc.com/profiles/new-york/3',\n",
       " 'https://www.zocdoc.com/profiles/new-york/4']"
      ]
     },
     "execution_count": 2,
     "metadata": {},
     "output_type": "execute_result"
    }
   ],
   "source": [
    "## This code will collect urls of the pages\n",
    "\n",
    "page_url = [(el.get_attribute('href')) for el in \\\n",
    "         driver.find_elements_by_xpath('//div[@class=\"sc-14mdbn4-0 fMQpmu\"]/a')]\n",
    "\n",
    "''' First url is None type because it is the staring page. \n",
    "So, I manually assigned it the main page to not have issues with the for loop. '''\n",
    "\n",
    "page_url[0] = 'https://www.zocdoc.com/profiles/new-york'\n",
    "page_url"
   ]
  },
  {
   "cell_type": "code",
   "execution_count": 3,
   "metadata": {},
   "outputs": [],
   "source": [
    "# Collecting all the urls from all four pages\n",
    "\n",
    "doc_urls = []\n",
    "for url in page_url:\n",
    "    \n",
    "    driver.get(url) # go to the url\n",
    "\n",
    "    # collect all links from every page\n",
    "    links = [(el.get_attribute('href')) for el in \\\n",
    "             driver.find_elements_by_xpath('//div[@class=\"sc-2gkh1u-2 dkERYX\"]/a')]\n",
    "    \n",
    "    # add each links to this variable\n",
    "    doc_urls.extend(links)\n",
    "    \n",
    "    time.sleep(2)"
   ]
  },
  {
   "cell_type": "code",
   "execution_count": 4,
   "metadata": {},
   "outputs": [
    {
     "data": {
      "text/plain": [
       "4000"
      ]
     },
     "execution_count": 4,
     "metadata": {},
     "output_type": "execute_result"
    }
   ],
   "source": [
    "len(doc_urls) # total number of urls"
   ]
  },
  {
   "cell_type": "code",
   "execution_count": 5,
   "metadata": {},
   "outputs": [],
   "source": [
    "# Test scrape to collect attribute data for the 1st five links\n",
    "\n",
    "with open('zocdocnyc_test.csv', 'w', encoding='utf-8', newline='') as csv_file:\n",
    "\n",
    "    writer = csv.writer(csv_file)\n",
    "    \n",
    "    for durl in doc_urls[0:5]:\n",
    "    # Initialize an empty dictionary for doctor's information\n",
    "\n",
    "        info_dict = {}\n",
    "\n",
    "        driver.get(durl)\n",
    "\n",
    "        #### BACKGROUND\n",
    "        try:\n",
    "            name = driver.find_element_by_xpath('//span[@data-uem-id=\"provider-name\"]').text\n",
    "        except:\n",
    "            name = 'None'\n",
    "\n",
    "        try:\n",
    "            specialties = driver.find_element_by_xpath('//h2[@class=\"sc-9yjfx1-12 mdZQO\"]').text\n",
    "        except:\n",
    "            specialties = 'None'\n",
    "\n",
    "        try:\n",
    "            gender = driver.find_element_by_xpath('//section[@data-test=\"Sex-section\"]/p').text\n",
    "        except:\n",
    "            gender = 'None'\n",
    "\n",
    "        try:\n",
    "            language = driver.find_element_by_xpath('//section[@data-test=\"Languages-section\"]/ul').text\n",
    "        except:\n",
    "            language = 'None'\n",
    "\n",
    "        try:\n",
    "            city = driver.find_element_by_xpath\\\n",
    "            ('//div[@elementtiming=\"Header\"]//h2[@data-test=\"header-location\"]').text\n",
    "        except:\n",
    "            city = 'None'\n",
    "\n",
    "        try:\n",
    "            zipcode = driver.find_element_by_xpath\\\n",
    "            ('//div[@data-test=\"location-card-info\"]//p[@data-test=\"city-state-zip\"]//span[@itemprop=\"postalCode\"]').text\n",
    "        except:\n",
    "            zipcode = 'None'\n",
    "\n",
    "        ### RATINGS\n",
    "        try:\n",
    "            total_reviews = driver.find_element_by_xpath('//div[@class=\"sc-15uikgc-2 elchZz\"]').text\n",
    "        except:\n",
    "            total_reviews = 'None'\n",
    "\n",
    "        try:\n",
    "            overall_rating = driver.find_element_by_xpath\\\n",
    "            ('//div[@data-test=\"reviews-section-header-rating-0\"]//div[@data-test=\"star-rating-score\"]').text\n",
    "        except:\n",
    "            overall_rating = 'None'\n",
    "\n",
    "        try:\n",
    "            wait_time = driver.find_element_by_xpath\\\n",
    "            ('//div[@data-test=\"reviews-section-header-rating-1\"]//div[@data-test=\"star-rating-score\"]').text\n",
    "        except:\n",
    "            wait_time = 'None'\n",
    "\n",
    "        try:\n",
    "            manner = driver.find_element_by_xpath\\\n",
    "            ('//div[@data-test=\"reviews-section-header-rating-2\"]//div[@data-test=\"star-rating-score\"]').text\n",
    "        except:\n",
    "            manner = 'None'\n",
    "\n",
    "        try:\n",
    "            video_visit = driver.find_element_by_xpath('//div[@class=\"sc-1anfxv2-3 dtGxOU\"]').text == 'Video visit'\n",
    "        except:\n",
    "            video_visit = False\n",
    "\n",
    "        info_dict['name'] = name\n",
    "        info_dict['specialties'] = specialties\n",
    "        info_dict['gender'] = gender\n",
    "        info_dict['language'] = language\n",
    "        info_dict['city'] = city\n",
    "        info_dict['zipcode'] = zipcode\n",
    "        info_dict['overall_rating'] = overall_rating\n",
    "        info_dict['total_reviews'] = total_reviews\n",
    "        info_dict['wait_time'] = wait_time\n",
    "        info_dict['manner'] = manner\n",
    "        info_dict['Video_Visit'] = video_visit\n",
    "        info_dict['doc_urls'] = durl\n",
    "\n",
    "        writer.writerow(info_dict.values())\n",
    "\n",
    "        time.sleep(2)\n",
    "\n",
    "#csv_file.close()\n",
    "driver.close()"
   ]
  },
  {
   "cell_type": "code",
   "execution_count": null,
   "metadata": {},
   "outputs": [],
   "source": []
  }
 ],
 "metadata": {
  "kernelspec": {
   "display_name": "Python 3",
   "language": "python",
   "name": "python3"
  },
  "language_info": {
   "codemirror_mode": {
    "name": "ipython",
    "version": 3
   },
   "file_extension": ".py",
   "mimetype": "text/x-python",
   "name": "python",
   "nbconvert_exporter": "python",
   "pygments_lexer": "ipython3",
   "version": "3.7.4"
  }
 },
 "nbformat": 4,
 "nbformat_minor": 4
}
