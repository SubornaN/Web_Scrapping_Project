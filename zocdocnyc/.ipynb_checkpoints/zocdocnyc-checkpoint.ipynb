{
 "cells": [
  {
   "cell_type": "code",
   "execution_count": 3,
   "metadata": {},
   "outputs": [],
   "source": [
    "from selenium import webdriver\n",
    "\n",
    "driver = webdriver.Chrome()"
   ]
  },
  {
   "cell_type": "code",
   "execution_count": 4,
   "metadata": {},
   "outputs": [],
   "source": [
    "driver.get(\"https://www.zocdoc.com/profiles/new-york\")"
   ]
  },
  {
   "cell_type": "code",
   "execution_count": 3,
   "metadata": {},
   "outputs": [],
   "source": [
    "links = [(el.text, el.get_attribute('href')) for el in driver.find_elements_by_xpath('//a')]"
   ]
  },
  {
   "cell_type": "code",
   "execution_count": 4,
   "metadata": {},
   "outputs": [
    {
     "data": {
      "text/plain": [
       "[('', 'https://www.zocdoc.com/'),\n",
       " ('List your practice on Zocdoc', 'https://www.zocdoc.com/join'),\n",
       " ('Sign in / Join', 'https://www.zocdoc.com/signin'),\n",
       " ('Alexander Kirzhner, DDS',\n",
       "  'https://www.zocdoc.com/dentist/alexander-kirzhner-dds-1660'),\n",
       " ('Samuel Cho, MD', 'https://www.zocdoc.com/doctor/samuel-cho-md-155663'),\n",
       " ('Demetrios Mihalos, DDS',\n",
       "  'https://www.zocdoc.com/dentist/demetrios-mihalos-dds-42392'),\n",
       " ('Chunpang (Tony) Shen, MD',\n",
       "  'https://www.zocdoc.com/doctor/chunpang-tony-shen-md-204804'),\n",
       " ('Irina Mikheyeva, DO',\n",
       "  'https://www.zocdoc.com/doctor/irina-mikheyeva-do-9303'),\n",
       " ('Raja Aghabi, DDS', 'https://www.zocdoc.com/dentist/raja-aghabi-dds-107290'),\n",
       " ('Nicole Carreau, MD',\n",
       "  'https://www.zocdoc.com/doctor/nicole-carreau-md-287624'),\n",
       " ('Karen Kang, DDS', 'https://www.zocdoc.com/dentist/karen-kang-dds-30514'),\n",
       " ('Howard J. Spielman, DDS',\n",
       "  'https://www.zocdoc.com/dentist/howard-j-spielman-dds-1449'),\n",
       " ('Meghan Bishop, MD',\n",
       "  'https://www.zocdoc.com/doctor/meghan-bishop-md-281720'),\n",
       " ('Oren Rahmanan, DDS',\n",
       "  'https://www.zocdoc.com/dentist/oren-rahmanan-dds-32750'),\n",
       " ('Erica Suskin, LMSW',\n",
       "  'https://www.zocdoc.com/professional/erica-suskin-lmsw-295023')]"
      ]
     },
     "execution_count": 4,
     "metadata": {},
     "output_type": "execute_result"
    }
   ],
   "source": [
    "links[:15]"
   ]
  },
  {
   "cell_type": "code",
   "execution_count": 5,
   "metadata": {},
   "outputs": [],
   "source": [
    "# close the browser at the end\n",
    "driver.close()"
   ]
  },
  {
   "cell_type": "code",
   "execution_count": null,
   "metadata": {},
   "outputs": [],
   "source": []
  }
 ],
 "metadata": {
  "kernelspec": {
   "display_name": "Python 3",
   "language": "python",
   "name": "python3"
  },
  "language_info": {
   "codemirror_mode": {
    "name": "ipython",
    "version": 3
   },
   "file_extension": ".py",
   "mimetype": "text/x-python",
   "name": "python",
   "nbconvert_exporter": "python",
   "pygments_lexer": "ipython3",
   "version": "3.7.4"
  }
 },
 "nbformat": 4,
 "nbformat_minor": 4
}
